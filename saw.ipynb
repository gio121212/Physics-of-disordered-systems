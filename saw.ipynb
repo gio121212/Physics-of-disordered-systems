{
 "cells": [
  {
   "cell_type": "markdown",
   "metadata": {},
   "source": [
    "## Self-avoiding walk (SAW)\n",
    "\n",
    "We simulate a self-avoiding walk (SAW) on a square lattice. Each walk represents a possible conformation of a polymer composed of $N$ monomers. We use a simple Monte Carlo algorithm to sample the possible conformations of the polymer."
   ]
  },
  {
   "cell_type": "code",
   "execution_count": 3,
   "metadata": {},
   "outputs": [
    {
     "data": {
      "text/plain": [
       "[<matplotlib.lines.Line2D at 0x7f14511e2f70>]"
      ]
     },
     "execution_count": 3,
     "metadata": {},
     "output_type": "execute_result"
    },
    {
     "data": {
      "image/png": "[encoded data removed]",
      "text/plain": [
       "<Figure size 432x288 with 1 Axes>"
      ]
     },
     "metadata": {
      "needs_background": "light"
     },
     "output_type": "display_data"
    }
   ],
   "source": [
    "import numpy\n",
    "import matplotlib.pyplot as plt \n",
    "\n",
    "# Model parameters\n",
    "N = 100\n",
    "L = 1000\n",
    "matrix = numpy.zeros((L+1, L+1), dtype=int)\n",
    "\n",
    "# Setup initial configuration as a long linear chain wrapped around the boundaries\n",
    "positions = []\n",
    "for x in range(L):\n",
    "    for y in range(L):\n",
    "        if x % 2 != 0:\n",
    "            y = L - y\n",
    "        positions.append([x, y])\n",
    "        matrix[x, y] = 1\n",
    "        if len(positions) >= N:\n",
    "            break\n",
    "    if len(positions) >= N:\n",
    "        break\n",
    "\n",
    "plt.plot([r[0] for r in positions], [r[1] for r in positions], '-o')"
   ]
  },
  {
   "cell_type": "markdown",
   "metadata": {},
   "source": [
    "Now we update the walk using a simple Monte Carlo algorithm. At every step, we try to remove the monomer from the tail (head) and attach it to the head (tail), accepting new conformations if satify the self-avoidance constraint but retaining the old ones if they don't."
   ]
  },
  {
   "cell_type": "code",
   "execution_count": 4,
   "metadata": {
    "scrolled": false
   },
   "outputs": [
    {
     "data": {
      "text/plain": [
       "[<matplotlib.lines.Line2D at 0x7f14508d8040>]"
      ]
     },
     "execution_count": 4,
     "metadata": {},
     "output_type": "execute_result"
    },
    {
     "data": {
      "image/png": "[encoded data removed]",
      "text/plain": [
       "<Figure size 432x288 with 1 Axes>"
      ]
     },
     "metadata": {
      "needs_background": "light"
     },
     "output_type": "display_data"
    }
   ],
   "source": [
    "# Pick up first monomer\n",
    "import random\n",
    "\n",
    "steps = 1000\n",
    "for step in range(steps):\n",
    "    # Either take the first particle and add it to the tail (drop=0, insert=-1)\n",
    "    # or the opposite (drop=-1, insert=0)\n",
    "    drop, insert = random.choice([[0, -1], [-1, 0]])\n",
    "\n",
    "    # Attempt to put the particle at position `pos`\n",
    "    delta = random.choice([[1, 0], [-1, 0], [0, 1], [0, -1]])\n",
    "    pos = positions[insert][:] + numpy.array(delta)\n",
    "    \n",
    "    # If the new site is empty, add the particle\n",
    "    if matrix[pos[0], pos[1]] == 0:\n",
    "        new = positions.pop(drop)\n",
    "        matrix[new[0], new[1]] = 0\n",
    "        matrix[pos[0], pos[1]] = 1\n",
    "        new[:] = pos\n",
    "\n",
    "        # Either add to the head or the tail\n",
    "        if insert == 0:\n",
    "            positions.insert(0, new)\n",
    "        else:\n",
    "            positions.append(new)\n",
    "       \n",
    "plt.plot([r[0] for r in positions], [r[1] for r in positions], '-o')"
   ]
  },
  {
   "cell_type": "markdown",
   "metadata": {},
   "source": [
    "**Exercise 1**: *Equilibration*\n",
    "\n",
    "How many steps are required to \"equilibrate\" the SAW? To get a feeling, execute the blocks above several times until *by visual inspection* the SAW looses memory of its initial shape. Keep track of the total number of equilibration steps for $N=10, 100, 1000$. What do you observe?"
   ]
  },
  {
   "cell_type": "markdown",
   "metadata": {},
   "source": [
    "1. Per \"equilibrare\" il SAW sono necessari un numero $\\sim N^{2}$ di equilibration steps, quindi il numero necessario cresce con N"
   ]
  },
  {
   "cell_type": "markdown",
   "metadata": {},
   "source": [
    "**Exercice 2**: *Flory exponent*\n",
    "\n",
    "Compute the root-mean-square end-to-end vector $R\\equiv {\\langle |\\vec{R}|^2\\rangle}^{1/2}$ for several $N$ in the interval $[10, 500]$ and estimate the Flory exponent $\\nu$ defined by the relation\n",
    "$$R \\sim N^\\nu$$\n",
    "Compare your numerical results to the Flory argument for a SAW in $d=2$ spatial dimensions, \n",
    "\n",
    "*Hint 1*: do not forget to ignore the conformations sampled during the equilibration phase!\n",
    "\n",
    "*Hint 2*: you may want to encapsulate the blocks above into separate functions that initialize and update the SAW respectively. \n",
    "\n",
    "*To go beyond*: Adapt the code to generate SAWs in $d=3$. Find the Flory exponent and compare it to the Flory argument ($\\nu=3/5$) and to the result of renormalization group theory ($\\nu=0.588$). In order to actually favor one theoretical prediction over the other, high quality data are needed and it is recommended to perform the simulations in a more efficient language such as C, Fortran or Julia. If you want to keep using python you may want to try `f2py` or `f2py-jit` (to integrate Fortran 90 in python) or `numba` (to compile python just-in-time!) or related tools."
   ]
  },
  {
   "cell_type": "code",
   "execution_count": 5,
   "metadata": {},
   "outputs": [],
   "source": [
    "def initialize(N, L):\n",
    "    matrix = numpy.zeros((L+1, L+1), dtype=int)\n",
    "\n",
    "    # Setup initial configuration as a long linear chain wrapped around the boundaries\n",
    "    positions = []\n",
    "    for x in range(L):\n",
    "        for y in range(L):\n",
    "            if x % 2 != 0:\n",
    "                y = L - y\n",
    "            positions.append([x, y])\n",
    "            matrix[x, y] = 1\n",
    "            if len(positions) >= N:\n",
    "                break\n",
    "        if len(positions) >= N:\n",
    "            break\n",
    "    return positions, matrix"
   ]
  },
  {
   "cell_type": "code",
   "execution_count": 6,
   "metadata": {},
   "outputs": [],
   "source": [
    "def update(steps, positions, matrix):\n",
    "    for step in range(steps):\n",
    "        # Either take the first particle and add it to the tail (drop=0, insert=-1)\n",
    "        # or the opposite (drop=-1, insert=0)\n",
    "        drop, insert = random.choice([[0, -1], [-1, 0]])\n",
    "\n",
    "        # Attempt to put the particle at position `pos`\n",
    "        delta = random.choice([[1, 0], [-1, 0], [0, 1], [0, -1]])\n",
    "        pos = positions[insert][:] + numpy.array(delta)\n",
    "\n",
    "        # If the new site is empty, add the particle\n",
    "        if matrix[pos[0], pos[1]] == 0:\n",
    "            new = positions.pop(drop)\n",
    "            matrix[new[0], new[1]] = 0\n",
    "            matrix[pos[0], pos[1]] = 1\n",
    "            new[:] = pos\n",
    "\n",
    "            # Either add to the head or the tail\n",
    "            if insert == 0:\n",
    "                positions.insert(0, new)\n",
    "            else:\n",
    "                positions.append(new)\n",
    "    return positions, matrix"
   ]
  },
  {
   "cell_type": "code",
   "execution_count": 7,
   "metadata": {},
   "outputs": [
    {
     "name": "stdout",
     "output_type": "stream",
     "text": [
      "17.73302004735798 0.6243913525215592\n"
     ]
    },
    {
     "data": {
      "image/png": "[encoded data removed]",
      "text/plain": [
       "<Figure size 432x288 with 1 Axes>"
      ]
     },
     "metadata": {
      "needs_background": "light"
     },
     "output_type": "display_data"
    }
   ],
   "source": [
    "# Model parameters\n",
    "N = 100\n",
    "L = 1000\n",
    "positions, matrix = initialize(N, L)\n",
    "positions, matrix = update(N**2, positions, matrix)\n",
    "plt.plot([r[0] for r in positions], [r[1] for r in positions], '-o')\n",
    "\n",
    "# Compute root mean square end to end vector and Flory exponent\n",
    "data_steps = 1000\n",
    "R2 = 0\n",
    "for i in range(data_steps):\n",
    "    positions, matrix = update(1, positions, matrix)\n",
    "    R2 += (positions[0][0] - positions[-1][0])**2 + (positions[0][1] - positions[-1][1])**2\n",
    "    \n",
    "mean_square_R = numpy.sqrt(R2/data_steps)\n",
    "flory_exp = numpy.log(mean_square_R) / numpy.log(N)\n",
    "print(mean_square_R, flory_exp)"
   ]
  },
  {
   "cell_type": "code",
   "execution_count": 8,
   "metadata": {},
   "outputs": [
    {
     "name": "stdout",
     "output_type": "stream",
     "text": [
      "La stima dell'esponente di Flory risulta: nu = 0.728638076888503\n",
      "\n",
      "Consistente con la previsione basata sull'argomento di Flory secondo cui in 2 dimensioni nu = 0.75\n"
     ]
    }
   ],
   "source": [
    "# Compute root mean square end to end vector and Flory exponent\n",
    "# with a loop over N to improve statistics\n",
    "\n",
    "flory_exp = 0\n",
    "N_range = numpy.linspace(10, 500, 50)\n",
    "for N in N_range:\n",
    "    positions, matrix = initialize(N, L)\n",
    "    positions, matrix = update(int(N**2), positions, matrix)\n",
    "\n",
    "    data_steps = 1000\n",
    "    mean_square_R = 0\n",
    "    R2 = 0\n",
    "    for i in range(data_steps):\n",
    "        positions, matrix = update(1, positions, matrix)\n",
    "        R2 += (positions[0][0] - positions[-1][0])**2 + (positions[0][1] - positions[-1][1])**2\n",
    "    mean_square_R += numpy.sqrt(R2/data_steps)\n",
    "    \n",
    "    flory_exp += numpy.log(mean_square_R) / numpy.log(N)\n",
    "    \n",
    "flory_exp = flory_exp / len(N_range)\n",
    "print(\"La stima dell'esponente di Flory risulta: nu =\", flory_exp)\n",
    "print(\"\\nConsistente con la previsione basata sull'argomento di Flory secondo cui in 2 dimensioni nu = 0.75\")"
   ]
  },
  {
   "cell_type": "markdown",
   "metadata": {},
   "source": [
    "**Exercice 3**: *fractal dimension* $D$\n",
    "    \n",
    "Measure the fractal dimension of a SAW in $d=2$ dimensions using the relation\n",
    "$$\n",
    "\\langle N(r)\\rangle \\sim r^D\n",
    "$$\n",
    "where $N(r)$ is the number of particles in a circle of radius centered on the polymer center of mass. Compare to the theoretical expectation based on the Flory argument."
   ]
  },
  {
   "cell_type": "code",
   "execution_count": 9,
   "metadata": {},
   "outputs": [
    {
     "data": {
      "text/plain": [
       "[<matplotlib.lines.Line2D at 0x7f145192bd00>]"
      ]
     },
     "execution_count": 9,
     "metadata": {},
     "output_type": "execute_result"
    },
    {
     "data": {
      "image/png": "[encoded data removed]",
      "text/plain": [
       "<Figure size 432x288 with 1 Axes>"
      ]
     },
     "metadata": {
      "needs_background": "light"
     },
     "output_type": "display_data"
    }
   ],
   "source": [
    "# Model parameters\n",
    "N = 100\n",
    "L = 10000\n",
    "positions, matrix = initialize(N, L)\n",
    "positions, matrix = update(N**2, positions, matrix)\n",
    "#plt.plot([r[0] for r in positions], [r[1] for r in positions], '-o')\n",
    "\n",
    "data_steps = 1000\n",
    "rdata = numpy.linspace(0, int(N/2), 1000)\n",
    "N_r = numpy.zeros(1000)\n",
    "for i in range(data_steps):\n",
    "    positions, matrix = update(1, positions, matrix)\n",
    "    # Compute center of mass\n",
    "    CM_x = 0\n",
    "    CM_y = 0\n",
    "    for position in positions:\n",
    "        CM_x += position[0]\n",
    "        CM_y += position[1]\n",
    "    CM_x = CM_x / len(positions)\n",
    "    CM_y = CM_y / len(positions)\n",
    "    #plt.plot([r[0] for r in positions], [r[1] for r in positions], '-o')\n",
    "    #plt.plot (CM_x, CM_y, '-o')\n",
    "    \n",
    "    # Compute <N(r)>\n",
    "    for position in positions:\n",
    "        cm_distance = numpy.sqrt( (position[0] - CM_x)**2 + (position[1] - CM_y)**2)\n",
    "        index = 0\n",
    "        for r in rdata:\n",
    "            if cm_distance < r:\n",
    "                N_r[index] += 1\n",
    "            index += 1\n",
    "    #N_r = N_r / len(positions)\n",
    "N_r = N_r / data_steps\n",
    "    \n",
    "plt.plot(rdata, N_r)"
   ]
  },
  {
   "cell_type": "code",
   "execution_count": 25,
   "metadata": {},
   "outputs": [
    {
     "name": "stdout",
     "output_type": "stream",
     "text": [
      "1.693\n",
      "fractal dimension: 2.1343967064237117\n"
     ]
    },
    {
     "data": {
      "text/plain": [
       "(0.0, 100.0)"
      ]
     },
     "execution_count": 25,
     "metadata": {},
     "output_type": "execute_result"
    },
    {
     "data": {
      "image/png": "[encoded data removed]",
      "text/plain": [
       "<Figure size 432x288 with 1 Axes>"
      ]
     },
     "metadata": {
      "needs_background": "light"
     },
     "output_type": "display_data"
    }
   ],
   "source": [
    "from scipy.optimize import curve_fit\n",
    "\n",
    "def func(x, a, b):\n",
    "    return a * x**b\n",
    "\n",
    "plt.plot(rdata, N_r, 'o', label='data')\n",
    "fit_max = int(1000/N*3)\n",
    "print(N_r[fit_max])\n",
    "popt, pcov = curve_fit(func, rdata[:fit_max], N_r[:fit_max])\n",
    "print(\"fractal dimension:\", popt[1])\n",
    "\n",
    "# Note the *popt syntax unpacks the array into individual variables\n",
    "plt.plot(rdata, func(rdata, *popt), '-')\n",
    "plt.xlim([0,10])\n",
    "plt.ylim([0,N])"
   ]
  },
  {
   "cell_type": "code",
   "execution_count": null,
   "metadata": {},
   "outputs": [],
   "source": []
  }
 ],
 "metadata": {
  "kernelspec": {
   "display_name": "Python 3 (ipykernel)",
   "language": "python",
   "name": "python3"
  },
  "language_info": {
   "codemirror_mode": {
    "name": "ipython",
    "version": 3
   },
   "file_extension": ".py",
   "mimetype": "text/x-python",
   "name": "python",
   "nbconvert_exporter": "python",
   "pygments_lexer": "ipython3",
   "version": "3.9.12"
  }
 },
 "nbformat": 4,
 "nbformat_minor": 4
}
